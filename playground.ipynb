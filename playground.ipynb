{
 "cells": [
  {
   "cell_type": "code",
   "execution_count": 1,
   "id": "4709ae0e",
   "metadata": {},
   "outputs": [],
   "source": [
    "import importlib\n",
    "import torch\n",
    "import utility\n",
    "from utility import LeNet\n",
    "from autoattack_dev import AutoAttack"
   ]
  },
  {
   "cell_type": "markdown",
   "id": "dab5dcba",
   "metadata": {},
   "source": [
    "Re-run the following code to re-import the utility importlib.reload(utility)"
   ]
  },
  {
   "cell_type": "code",
   "execution_count": 2,
   "id": "106d44c3",
   "metadata": {},
   "outputs": [
    {
     "data": {
      "text/plain": [
       "LeNet(\n",
       "  (conv1): Sequential(\n",
       "    (0): Conv2d(1, 16, kernel_size=(5, 5), stride=(1, 1), padding=(2, 2))\n",
       "    (1): ReLU()\n",
       "    (2): MaxPool2d(kernel_size=2, stride=2, padding=0, dilation=1, ceil_mode=False)\n",
       "  )\n",
       "  (conv2): Sequential(\n",
       "    (0): Conv2d(16, 32, kernel_size=(5, 5), stride=(1, 1), padding=(2, 2))\n",
       "    (1): ReLU()\n",
       "    (2): MaxPool2d(kernel_size=2, stride=2, padding=0, dilation=1, ceil_mode=False)\n",
       "  )\n",
       "  (out): Linear(in_features=1568, out_features=10, bias=True)\n",
       ")"
      ]
     },
     "execution_count": 2,
     "metadata": {},
     "output_type": "execute_result"
    }
   ],
   "source": [
    "net = utility.network()\n",
    "net.cuda()"
   ]
  },
  {
   "cell_type": "code",
   "execution_count": 3,
   "id": "6e0167f1",
   "metadata": {},
   "outputs": [
    {
     "name": "stdout",
     "output_type": "stream",
     "text": [
      "Check accuracy of the model: 0.98\n"
     ]
    }
   ],
   "source": [
    "orignal_samples = utility.samples(adversarial=False)\n",
    "utility.evaluate(net, orignal_samples, defense=utility.trimmer, device=torch.device(\"cuda\"))"
   ]
  },
  {
   "cell_type": "code",
   "execution_count": 4,
   "id": "df179452",
   "metadata": {},
   "outputs": [
    {
     "data": {
      "text/plain": [
       "LeNet_BPDA(\n",
       "  (pretrained_model): LeNet(\n",
       "    (conv1): Sequential(\n",
       "      (0): Conv2d(1, 16, kernel_size=(5, 5), stride=(1, 1), padding=(2, 2))\n",
       "      (1): ReLU()\n",
       "      (2): MaxPool2d(kernel_size=2, stride=2, padding=0, dilation=1, ceil_mode=False)\n",
       "    )\n",
       "    (conv2): Sequential(\n",
       "      (0): Conv2d(16, 32, kernel_size=(5, 5), stride=(1, 1), padding=(2, 2))\n",
       "      (1): ReLU()\n",
       "      (2): MaxPool2d(kernel_size=2, stride=2, padding=0, dilation=1, ceil_mode=False)\n",
       "    )\n",
       "    (out): Linear(in_features=1568, out_features=10, bias=True)\n",
       "  )\n",
       ")"
      ]
     },
     "execution_count": 4,
     "metadata": {},
     "output_type": "execute_result"
    }
   ],
   "source": [
    "import torch.nn as nn\n",
    "\n",
    "class LeNet_BPDA(torch.nn.Module):\n",
    "    def __init__(self, pretrained_model, defense):\n",
    "        super(LeNet_BPDA, self).__init__()\n",
    "        self.pretrained_model = pretrained_model\n",
    "        self.defense = defense\n",
    "    \n",
    "    def forward(self, x):\n",
    "        defense_val = self.defense(x)\n",
    "        x_rec = x.clone()\n",
    "        x_rec.data = defense_val.data\n",
    "        out = self.pretrained_model(x_rec)\n",
    "        return out\n",
    "\n",
    "net_bpda = LeNet_BPDA(net, utility.trimmer)\n",
    "net_bpda.cuda()"
   ]
  },
  {
   "cell_type": "markdown",
   "id": "9a574c2b",
   "metadata": {},
   "source": [
    "Step 1: set-up BPDA attacks "
   ]
  },
  {
   "cell_type": "code",
   "execution_count": 5,
   "id": "a7728310",
   "metadata": {},
   "outputs": [
    {
     "name": "stdout",
     "output_type": "stream",
     "text": [
      "setting parameters for standard version\n"
     ]
    }
   ],
   "source": [
    "inf_BPDA = AutoAttack(net_bpda, norm='Linf', eps=0.3, version='standard')\n",
    "inf_BPDA.attacks_to_run = ['apgd-ce']\n",
    "inf_BPDA.apgd.n_restarts = 1\n",
    "inf_BPDA.apgd.n_iter = 100"
   ]
  },
  {
   "cell_type": "markdown",
   "id": "0511550b",
   "metadata": {},
   "source": [
    "Step 2: apply the APGD"
   ]
  },
  {
   "cell_type": "code",
   "execution_count": 7,
   "id": "65bc9d32",
   "metadata": {},
   "outputs": [
    {
     "name": "stdout",
     "output_type": "stream",
     "text": [
      "using standard version including apgd-ce\n",
      "initial accuracy: 98.00%\n",
      "apgd-ce - 1/1 - 93 out of 98 successfully perturbed\n",
      "robust accuracy after APGD-CE: 5.00% (total time 0.4 s)\n",
      "max Linf perturbation: 0.30000, nan in tensor: 0, max: 1.00000, min: 0.00000\n",
      "robust accuracy: 5.00%\n"
     ]
    }
   ],
   "source": [
    "for images, labels in orignal_samples:\n",
    "    adv_complete = inf_BPDA.run_standard_evaluation(images, labels, bs=100)"
   ]
  },
  {
   "cell_type": "code",
   "execution_count": 8,
   "id": "f675b048",
   "metadata": {},
   "outputs": [],
   "source": [
    "BPDA_sample = utility.samples(x=adv_complete)"
   ]
  },
  {
   "cell_type": "code",
   "execution_count": 9,
   "id": "583ccb78",
   "metadata": {},
   "outputs": [
    {
     "name": "stdout",
     "output_type": "stream",
     "text": [
      "Check accuracy of the model: 0.06\n"
     ]
    }
   ],
   "source": [
    "utility.evaluate(net, BPDA_sample, device=torch.device(\"cuda\"))"
   ]
  },
  {
   "cell_type": "code",
   "execution_count": 12,
   "id": "862346bc",
   "metadata": {},
   "outputs": [
    {
     "name": "stdout",
     "output_type": "stream",
     "text": [
      "Check accuracy of the model: 0.05\n"
     ]
    }
   ],
   "source": [
    "utility.evaluate(net_bpda, BPDA_sample, device=torch.device(\"cuda\"))"
   ]
  }
 ],
 "metadata": {
  "kernelspec": {
   "display_name": "Python 3",
   "language": "python",
   "name": "python3"
  },
  "language_info": {
   "codemirror_mode": {
    "name": "ipython",
    "version": 3
   },
   "file_extension": ".py",
   "mimetype": "text/x-python",
   "name": "python",
   "nbconvert_exporter": "python",
   "pygments_lexer": "ipython3",
   "version": "3.8.8"
  }
 },
 "nbformat": 4,
 "nbformat_minor": 5
}
