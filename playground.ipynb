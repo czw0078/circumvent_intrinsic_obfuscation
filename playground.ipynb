{
 "cells": [
  {
   "cell_type": "code",
   "execution_count": 1,
   "id": "4709ae0e",
   "metadata": {},
   "outputs": [],
   "source": [
    "import importlib\n",
    "import torch\n",
    "import utility\n",
    "from utility import LeNet\n",
    "from autoattack_dev import AutoAttack"
   ]
  },
  {
   "cell_type": "markdown",
   "id": "dab5dcba",
   "metadata": {},
   "source": [
    "Re-run the following code to re-import the utility importlib.reload(utility)"
   ]
  },
  {
   "cell_type": "code",
   "execution_count": 2,
   "id": "106d44c3",
   "metadata": {},
   "outputs": [
    {
     "data": {
      "text/plain": [
       "LeNet(\n",
       "  (conv1): Sequential(\n",
       "    (0): Conv2d(1, 16, kernel_size=(5, 5), stride=(1, 1), padding=(2, 2))\n",
       "    (1): ReLU()\n",
       "    (2): MaxPool2d(kernel_size=2, stride=2, padding=0, dilation=1, ceil_mode=False)\n",
       "  )\n",
       "  (conv2): Sequential(\n",
       "    (0): Conv2d(16, 32, kernel_size=(5, 5), stride=(1, 1), padding=(2, 2))\n",
       "    (1): ReLU()\n",
       "    (2): MaxPool2d(kernel_size=2, stride=2, padding=0, dilation=1, ceil_mode=False)\n",
       "  )\n",
       "  (out): Linear(in_features=1568, out_features=10, bias=True)\n",
       ")"
      ]
     },
     "execution_count": 2,
     "metadata": {},
     "output_type": "execute_result"
    }
   ],
   "source": [
    "net = utility.network()\n",
    "net.cuda()"
   ]
  },
  {
   "cell_type": "code",
   "execution_count": 3,
   "id": "6e0167f1",
   "metadata": {},
   "outputs": [
    {
     "name": "stdout",
     "output_type": "stream",
     "text": [
      "Check accuracy of the model: 0.98\n"
     ]
    }
   ],
   "source": [
    "orignal_sample = utility.samples(adversarial=False)\n",
    "utility.evaluate(net, orignal_sample, defense=utility.trimmer, device=torch.device(\"cuda\"))"
   ]
  },
  {
   "cell_type": "markdown",
   "id": "a7738095",
   "metadata": {},
   "source": [
    "Step 1: set-up BPDA attacks "
   ]
  },
  {
   "cell_type": "code",
   "execution_count": 4,
   "id": "d36330f7",
   "metadata": {},
   "outputs": [
    {
     "name": "stdout",
     "output_type": "stream",
     "text": [
      "setting parameters for standard version\n"
     ]
    }
   ],
   "source": [
    "inf_BPDA = AutoAttack(net, norm='Linf', eps=0.3, version='standard', know_defense=utility.trimmer)\n",
    "inf_BPDA.attacks_to_run = ['apgd-ce']\n",
    "inf_BPDA.apgd.n_restarts = 1\n",
    "inf_BPDA.apgd.n_iter = 100"
   ]
  },
  {
   "cell_type": "markdown",
   "id": "09ffa7e5",
   "metadata": {},
   "source": [
    "Step 2: apply the APGD"
   ]
  },
  {
   "cell_type": "code",
   "execution_count": 5,
   "id": "092b6daf",
   "metadata": {},
   "outputs": [
    {
     "name": "stdout",
     "output_type": "stream",
     "text": [
      "using standard version including apgd-ce\n",
      "initial accuracy: 98.00%\n",
      "apgd-ce - 1/1 - 98 out of 98 successfully perturbed\n",
      "robust accuracy after APGD-CE: 0.00% (total time 0.3 s)\n",
      "max Linf perturbation: 0.30000, nan in tensor: 0, max: 1.00000, min: 0.00000\n",
      "robust accuracy: 0.00%\n"
     ]
    }
   ],
   "source": [
    "for images, labels in orignal_sample:\n",
    "    adv_complete = inf_BPDA.run_standard_evaluation(images, labels, bs=100)"
   ]
  },
  {
   "cell_type": "code",
   "execution_count": 6,
   "id": "116b0af0",
   "metadata": {},
   "outputs": [
    {
     "data": {
      "text/plain": [
       "<module 'utility' from '/media/disk/h/usr/czw0078@auburn.edu/projects/rethink_minist_robust/utility.py'>"
      ]
     },
     "execution_count": 6,
     "metadata": {},
     "output_type": "execute_result"
    }
   ],
   "source": [
    "importlib.reload(utility)"
   ]
  },
  {
   "cell_type": "code",
   "execution_count": 7,
   "id": "39be163e",
   "metadata": {},
   "outputs": [],
   "source": [
    "BPDA_sample = utility.samples(x=adv_complete)"
   ]
  },
  {
   "cell_type": "code",
   "execution_count": 8,
   "id": "9e6256ea",
   "metadata": {},
   "outputs": [
    {
     "name": "stdout",
     "output_type": "stream",
     "text": [
      "Check accuracy of the model: 0.96\n"
     ]
    }
   ],
   "source": [
    "utility.evaluate(net, BPDA_sample, defense=utility.trimmer, device=torch.device(\"cuda\"))"
   ]
  },
  {
   "cell_type": "code",
   "execution_count": null,
   "id": "81f716f3",
   "metadata": {},
   "outputs": [],
   "source": [
    "def defense_BPDA(x, defense=utility.trimmer):\n",
    "    forward_value = defense(x)\n",
    "    out = x.clone()\n",
    "    out.date = forward_value.data\n",
    "    return out\n",
    "\n",
    "class "
   ]
  },
  {
   "cell_type": "code",
   "execution_count": 9,
   "id": "bf64d7da",
   "metadata": {},
   "outputs": [],
   "source": [
    "tx = torch.tensor([4,-1.12]).requires_grad_(True)"
   ]
  },
  {
   "cell_type": "code",
   "execution_count": 14,
   "id": "08e4241a",
   "metadata": {},
   "outputs": [],
   "source": [
    "loss = torch.matmul(tx, tx)\n",
    "loss.backward()"
   ]
  },
  {
   "cell_type": "code",
   "execution_count": 15,
   "id": "0059daa1",
   "metadata": {},
   "outputs": [
    {
     "data": {
      "text/plain": [
       "tensor([ 8.0000, -2.2400])"
      ]
     },
     "execution_count": 15,
     "metadata": {},
     "output_type": "execute_result"
    }
   ],
   "source": [
    "tx.grad"
   ]
  },
  {
   "cell_type": "code",
   "execution_count": 20,
   "id": "3e223639",
   "metadata": {},
   "outputs": [],
   "source": [
    "ty = torch.tensor([4,-1.12]).requires_grad_(True)\n",
    "tz = torch.clone(ty)\n",
    "loss2 = torch.matmul(tz[tz>0], tz[tz>0])\n",
    "loss2.backward()"
   ]
  },
  {
   "cell_type": "code",
   "execution_count": 22,
   "id": "783f6582",
   "metadata": {},
   "outputs": [
    {
     "data": {
      "text/plain": [
       "tensor([8., 0.])"
      ]
     },
     "execution_count": 22,
     "metadata": {},
     "output_type": "execute_result"
    }
   ],
   "source": [
    "ty.grad"
   ]
  },
  {
   "cell_type": "code",
   "execution_count": null,
   "id": "f2ca727c",
   "metadata": {},
   "outputs": [],
   "source": []
  }
 ],
 "metadata": {
  "kernelspec": {
   "display_name": "Python 3",
   "language": "python",
   "name": "python3"
  },
  "language_info": {
   "codemirror_mode": {
    "name": "ipython",
    "version": 3
   },
   "file_extension": ".py",
   "mimetype": "text/x-python",
   "name": "python",
   "nbconvert_exporter": "python",
   "pygments_lexer": "ipython3",
   "version": "3.8.8"
  }
 },
 "nbformat": 4,
 "nbformat_minor": 5
}
