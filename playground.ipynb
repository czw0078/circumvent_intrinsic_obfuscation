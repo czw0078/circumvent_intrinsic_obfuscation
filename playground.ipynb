{
 "cells": [
  {
   "cell_type": "code",
   "execution_count": 8,
   "id": "5cb65472",
   "metadata": {},
   "outputs": [],
   "source": [
    "import importlib\n",
    "import torch\n",
    "import utility"
   ]
  },
  {
   "cell_type": "markdown",
   "id": "4067d22d",
   "metadata": {},
   "source": [
    "Re-run the following code to re-import the utility"
   ]
  },
  {
   "cell_type": "code",
   "execution_count": 9,
   "id": "2943ecd5",
   "metadata": {},
   "outputs": [
    {
     "data": {
      "text/plain": [
       "<module 'utility' from '/media/disk/h/usr/czw0078@auburn.edu/projects/rethink_minist_robust/utility.py'>"
      ]
     },
     "execution_count": 9,
     "metadata": {},
     "output_type": "execute_result"
    }
   ],
   "source": [
    "importlib.reload(utility)"
   ]
  },
  {
   "cell_type": "markdown",
   "id": "813e896c",
   "metadata": {},
   "source": [
    "Start debuging"
   ]
  },
  {
   "cell_type": "code",
   "execution_count": 4,
   "id": "4bcc23e4",
   "metadata": {},
   "outputs": [
    {
     "data": {
      "text/plain": [
       "tensor([[0.7810, 0.2048, 0.2540],\n",
       "        [0.4569, 0.3009, 0.1701]])"
      ]
     },
     "execution_count": 4,
     "metadata": {},
     "output_type": "execute_result"
    }
   ],
   "source": [
    "a = torch.rand(2, 3)\n",
    "a"
   ]
  },
  {
   "cell_type": "code",
   "execution_count": null,
   "id": "bf6b0468",
   "metadata": {},
   "outputs": [],
   "source": [
    "def evaluate(net, loader):\n",
    "    # turn to test mode\n",
    "    net.eval()\n",
    "    # The with statement ensures proper acquisition and release of resources\n",
    "    with torch.no_grad(): \n",
    "        correct = 0\n",
    "        total = 0\n",
    "        for images, labels in loader:\n",
    "            images, labels = images.to(device), labels.to(device)\n",
    "            \n",
    "            test_output = net(images) # output are in loader batch size\n",
    "            # max work on second dimention of batch x 10 test_output\n",
    "            # (values, indices)[1].data.squeeze(), variable to tensor\n",
    "            # squeeze for python 2?\n",
    "            pred_y = torch.max(test_output, 1)[1].data.squeeze()\n",
    "            correct += (pred_y == labels).sum().item()\n",
    "            total += labels.size(0)\n",
    "        accuracy = correct / float(total)\n",
    "        print('Check accuracy of the model:', accuracy)\n",
    "\n",
    "evaluate(net, test_loader)"
   ]
  }
 ],
 "metadata": {
  "kernelspec": {
   "display_name": "Python 3",
   "language": "python",
   "name": "python3"
  },
  "language_info": {
   "codemirror_mode": {
    "name": "ipython",
    "version": 3
   },
   "file_extension": ".py",
   "mimetype": "text/x-python",
   "name": "python",
   "nbconvert_exporter": "python",
   "pygments_lexer": "ipython3",
   "version": "3.8.8"
  }
 },
 "nbformat": 4,
 "nbformat_minor": 5
}
