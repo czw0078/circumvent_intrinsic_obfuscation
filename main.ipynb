{
 "cells": [
  {
   "cell_type": "code",
   "execution_count": 1,
   "id": "4709ae0e",
   "metadata": {},
   "outputs": [],
   "source": [
    "import importlib\n",
    "import torch\n",
    "import utility\n",
    "from utility import LeNet\n",
    "from autoattack import AutoAttack"
   ]
  },
  {
   "cell_type": "markdown",
   "id": "dab5dcba",
   "metadata": {},
   "source": [
    "Re-run the following code to re-import the utility importlib.reload(utility)"
   ]
  },
  {
   "cell_type": "code",
   "execution_count": 2,
   "id": "106d44c3",
   "metadata": {},
   "outputs": [
    {
     "data": {
      "text/plain": [
       "LeNet(\n",
       "  (cnn1): Sequential(\n",
       "    (0): Conv2d(1, 32, kernel_size=(5, 5), stride=(1, 1), padding=(2, 2))\n",
       "    (1): ReLU()\n",
       "    (2): MaxPool2d(kernel_size=2, stride=2, padding=0, dilation=1, ceil_mode=False)\n",
       "  )\n",
       "  (cnn2): Sequential(\n",
       "    (0): Conv2d(32, 64, kernel_size=(5, 5), stride=(1, 1), padding=(2, 2))\n",
       "    (1): ReLU()\n",
       "    (2): MaxPool2d(kernel_size=2, stride=2, padding=0, dilation=1, ceil_mode=False)\n",
       "  )\n",
       "  (fc1): Linear(in_features=3136, out_features=1024, bias=True)\n",
       "  (fc2): Linear(in_features=1024, out_features=10, bias=True)\n",
       ")"
      ]
     },
     "execution_count": 2,
     "metadata": {},
     "output_type": "execute_result"
    }
   ],
   "source": [
    "net = utility.network()\n",
    "net.cuda()"
   ]
  },
  {
   "cell_type": "code",
   "execution_count": 3,
   "id": "6e0167f1",
   "metadata": {},
   "outputs": [
    {
     "name": "stdout",
     "output_type": "stream",
     "text": [
      "Check accuracy of the model: 1.0\n"
     ]
    }
   ],
   "source": [
    "orignal_samples = utility.samples(adversarial=False)\n",
    "utility.evaluate(net, orignal_samples, defense=utility.trimmer, device=torch.device(\"cuda\"))"
   ]
  },
  {
   "cell_type": "code",
   "execution_count": 4,
   "id": "df179452",
   "metadata": {},
   "outputs": [
    {
     "data": {
      "text/plain": [
       "LeNet_BPDA(\n",
       "  (pretrained_model): LeNet(\n",
       "    (cnn1): Sequential(\n",
       "      (0): Conv2d(1, 32, kernel_size=(5, 5), stride=(1, 1), padding=(2, 2))\n",
       "      (1): ReLU()\n",
       "      (2): MaxPool2d(kernel_size=2, stride=2, padding=0, dilation=1, ceil_mode=False)\n",
       "    )\n",
       "    (cnn2): Sequential(\n",
       "      (0): Conv2d(32, 64, kernel_size=(5, 5), stride=(1, 1), padding=(2, 2))\n",
       "      (1): ReLU()\n",
       "      (2): MaxPool2d(kernel_size=2, stride=2, padding=0, dilation=1, ceil_mode=False)\n",
       "    )\n",
       "    (fc1): Linear(in_features=3136, out_features=1024, bias=True)\n",
       "    (fc2): Linear(in_features=1024, out_features=10, bias=True)\n",
       "  )\n",
       ")"
      ]
     },
     "execution_count": 4,
     "metadata": {},
     "output_type": "execute_result"
    }
   ],
   "source": [
    "import torch.nn as nn\n",
    "\n",
    "class LeNet_BPDA(torch.nn.Module):\n",
    "    def __init__(self, pretrained_model, defense):\n",
    "        super(LeNet_BPDA, self).__init__()\n",
    "        self.pretrained_model = pretrained_model\n",
    "        self.defense = defense\n",
    "    \n",
    "    def forward(self, x):\n",
    "        defense_val = self.defense(x, edge=0.3)\n",
    "        x_rec = x.clone()\n",
    "        x_rec.data = defense_val.data\n",
    "        out = self.pretrained_model(x_rec)\n",
    "        return out\n",
    "\n",
    "net_bpda = LeNet_BPDA(net, utility.trimmer)\n",
    "net_bpda.cuda()"
   ]
  },
  {
   "cell_type": "markdown",
   "id": "9a574c2b",
   "metadata": {},
   "source": [
    "Step 1: set-up BPDA attacks "
   ]
  },
  {
   "cell_type": "code",
   "execution_count": 5,
   "id": "a7728310",
   "metadata": {},
   "outputs": [
    {
     "name": "stdout",
     "output_type": "stream",
     "text": [
      "setting parameters for standard version\n"
     ]
    }
   ],
   "source": [
    "inf_BPDA = AutoAttack(net_bpda, norm='Linf', eps=0.3, version='standard')\n",
    "# inf_BPDA.attacks_to_run = ['apgd-ce']\n",
    "inf_BPDA.apgd.n_restarts = 5\n",
    "inf_BPDA.apgd.n_iter = 100"
   ]
  },
  {
   "cell_type": "markdown",
   "id": "0511550b",
   "metadata": {},
   "source": [
    "Step 2: apply the APGD"
   ]
  },
  {
   "cell_type": "code",
   "execution_count": 6,
   "id": "65bc9d32",
   "metadata": {},
   "outputs": [
    {
     "name": "stdout",
     "output_type": "stream",
     "text": [
      "using standard version including apgd-ce, apgd-t, fab-t, square\n",
      "initial accuracy: 100.00%\n",
      "apgd-ce - 1/1 - 71 out of 100 successfully perturbed\n",
      "robust accuracy after APGD-CE: 29.00% (total time 1.7 s)\n",
      "apgd-t - 1/1 - 3 out of 29 successfully perturbed\n",
      "robust accuracy after APGD-T: 26.00% (total time 5.8 s)\n",
      "fab-t - 1/1 - 0 out of 26 successfully perturbed\n",
      "robust accuracy after FAB-T: 26.00% (total time 13.6 s)\n",
      "square - 1/1 - 1 out of 26 successfully perturbed\n",
      "robust accuracy after SQUARE: 25.00% (total time 22.1 s)\n",
      "Warning: Square Attack has decreased the robust accuracy of 1.00%. This might indicate that the robustness evaluation using AutoAttack is unreliable. Consider running Square Attack with more iterations and restarts or an adaptive attack. See flags_doc.md for details.\n",
      "max Linf perturbation: 0.30000, nan in tensor: 0, max: 1.00000, min: 0.00000\n",
      "robust accuracy: 25.00%\n"
     ]
    }
   ],
   "source": [
    "for images, labels in orignal_samples:\n",
    "    adv_complete = inf_BPDA.run_standard_evaluation(images, labels, bs=100)"
   ]
  },
  {
   "cell_type": "code",
   "execution_count": 7,
   "id": "f675b048",
   "metadata": {},
   "outputs": [],
   "source": [
    "BPDA_sample = utility.samples(x=adv_complete)"
   ]
  },
  {
   "cell_type": "code",
   "execution_count": 8,
   "id": "583ccb78",
   "metadata": {},
   "outputs": [
    {
     "name": "stdout",
     "output_type": "stream",
     "text": [
      "Check accuracy of the model: 0.25\n"
     ]
    }
   ],
   "source": [
    "utility.evaluate(net, BPDA_sample, device=torch.device(\"cuda\"))"
   ]
  },
  {
   "cell_type": "code",
   "execution_count": 9,
   "id": "862346bc",
   "metadata": {},
   "outputs": [
    {
     "name": "stdout",
     "output_type": "stream",
     "text": [
      "Check accuracy of the model: 0.25\n"
     ]
    }
   ],
   "source": [
    "utility.evaluate(net_bpda, BPDA_sample, device=torch.device(\"cuda\"))"
   ]
  },
  {
   "cell_type": "markdown",
   "id": "278aecd1",
   "metadata": {},
   "source": [
    "Load the adversarial trained model"
   ]
  },
  {
   "cell_type": "code",
   "execution_count": 10,
   "id": "c2f94ce3",
   "metadata": {},
   "outputs": [
    {
     "data": {
      "text/plain": [
       "LeNet(\n",
       "  (cnn1): Sequential(\n",
       "    (0): Conv2d(1, 32, kernel_size=(5, 5), stride=(1, 1), padding=(2, 2))\n",
       "    (1): ReLU()\n",
       "    (2): MaxPool2d(kernel_size=2, stride=2, padding=0, dilation=1, ceil_mode=False)\n",
       "  )\n",
       "  (cnn2): Sequential(\n",
       "    (0): Conv2d(32, 64, kernel_size=(5, 5), stride=(1, 1), padding=(2, 2))\n",
       "    (1): ReLU()\n",
       "    (2): MaxPool2d(kernel_size=2, stride=2, padding=0, dilation=1, ceil_mode=False)\n",
       "  )\n",
       "  (fc1): Linear(in_features=3136, out_features=1024, bias=True)\n",
       "  (fc2): Linear(in_features=1024, out_features=10, bias=True)\n",
       ")"
      ]
     },
     "execution_count": 10,
     "metadata": {},
     "output_type": "execute_result"
    }
   ],
   "source": [
    "net_adv = torch.load(\"./data/LeNet_32_adv.pt\")\n",
    "net_adv.eval()\n",
    "net_adv.cuda()"
   ]
  },
  {
   "cell_type": "code",
   "execution_count": 11,
   "id": "c60c69c0",
   "metadata": {},
   "outputs": [
    {
     "name": "stdout",
     "output_type": "stream",
     "text": [
      "Check accuracy of the model: 0.97\n"
     ]
    }
   ],
   "source": [
    "utility.evaluate(net_adv, BPDA_sample, device=torch.device(\"cuda\"))"
   ]
  },
  {
   "cell_type": "code",
   "execution_count": 12,
   "id": "c1006279",
   "metadata": {},
   "outputs": [
    {
     "data": {
      "text/plain": [
       "LeNet_BPDA_Skip(\n",
       "  (pretrained_model): LeNet(\n",
       "    (cnn1): Sequential(\n",
       "      (0): Conv2d(1, 32, kernel_size=(5, 5), stride=(1, 1), padding=(2, 2))\n",
       "      (1): ReLU()\n",
       "      (2): MaxPool2d(kernel_size=2, stride=2, padding=0, dilation=1, ceil_mode=False)\n",
       "    )\n",
       "    (cnn2): Sequential(\n",
       "      (0): Conv2d(32, 64, kernel_size=(5, 5), stride=(1, 1), padding=(2, 2))\n",
       "      (1): ReLU()\n",
       "      (2): MaxPool2d(kernel_size=2, stride=2, padding=0, dilation=1, ceil_mode=False)\n",
       "    )\n",
       "    (fc1): Linear(in_features=3136, out_features=1024, bias=True)\n",
       "    (fc2): Linear(in_features=1024, out_features=10, bias=True)\n",
       "  )\n",
       ")"
      ]
     },
     "execution_count": 12,
     "metadata": {},
     "output_type": "execute_result"
    }
   ],
   "source": [
    "class LeNet_BPDA_Skip(torch.nn.Module):\n",
    "    def __init__(self, pretrained_model):\n",
    "        super(LeNet_BPDA_Skip, self).__init__()\n",
    "        self.pretrained_model = pretrained_model\n",
    "    \n",
    "    def forward(self, x):\n",
    "        x = self.pretrained_model.cnn1[0](x)\n",
    "        skip_val = self.pretrained_model.cnn1[1](x)\n",
    "        x_rec = x.clone()\n",
    "        x_rec.data = skip_val.data\n",
    "        out = self.pretrained_model.cnn1[2](x_rec)\n",
    "        \n",
    "        out = self.pretrained_model.cnn2(out)\n",
    "        out = out.view(out.size(0),-1)\n",
    "        \n",
    "        out = self.pretrained_model.fc1(out)\n",
    "        out = self.pretrained_model.fc2(torch.relu(out))\n",
    "        return out\n",
    "\n",
    "net_bpda_skip = LeNet_BPDA_Skip(net_adv)\n",
    "net_bpda_skip.cuda()"
   ]
  },
  {
   "cell_type": "code",
   "execution_count": 13,
   "id": "3a322b3d",
   "metadata": {},
   "outputs": [
    {
     "name": "stdout",
     "output_type": "stream",
     "text": [
      "setting parameters for standard version\n"
     ]
    }
   ],
   "source": [
    "inf_BPDA_Skip = AutoAttack(net_bpda_skip, norm='Linf', eps=0.3, version='standard')\n",
    "# inf_BPDA_Skip.attacks_to_run = ['apgd-ce']\n",
    "inf_BPDA_Skip.apgd.n_restarts = 1\n",
    "inf_BPDA_Skip.apgd.n_iter = 100"
   ]
  },
  {
   "cell_type": "code",
   "execution_count": 14,
   "id": "b58ef7d9",
   "metadata": {},
   "outputs": [
    {
     "name": "stdout",
     "output_type": "stream",
     "text": [
      "using standard version including apgd-ce, apgd-t, fab-t, square\n",
      "initial accuracy: 100.00%\n",
      "apgd-ce - 1/1 - 3 out of 100 successfully perturbed\n",
      "robust accuracy after APGD-CE: 97.00% (total time 0.3 s)\n",
      "apgd-t - 1/1 - 2 out of 97 successfully perturbed\n",
      "robust accuracy after APGD-T: 95.00% (total time 4.5 s)\n",
      "fab-t - 1/1 - 0 out of 95 successfully perturbed\n",
      "robust accuracy after FAB-T: 95.00% (total time 13.7 s)\n",
      "square - 1/1 - 2 out of 95 successfully perturbed\n",
      "robust accuracy after SQUARE: 93.00% (total time 23.9 s)\n",
      "Warning: Square Attack has decreased the robust accuracy of 2.00%. This might indicate that the robustness evaluation using AutoAttack is unreliable. Consider running Square Attack with more iterations and restarts or an adaptive attack. See flags_doc.md for details.\n",
      "max Linf perturbation: 0.30000, nan in tensor: 0, max: 1.00000, min: 0.00000\n",
      "robust accuracy: 93.00%\n"
     ]
    }
   ],
   "source": [
    "for images, labels in orignal_samples:\n",
    "    adv_complete_Skip = inf_BPDA_Skip.run_standard_evaluation(images, labels, bs=100)"
   ]
  }
 ],
 "metadata": {
  "kernelspec": {
   "display_name": "Python 3",
   "language": "python",
   "name": "python3"
  },
  "language_info": {
   "codemirror_mode": {
    "name": "ipython",
    "version": 3
   },
   "file_extension": ".py",
   "mimetype": "text/x-python",
   "name": "python",
   "nbconvert_exporter": "python",
   "pygments_lexer": "ipython3",
   "version": "3.8.8"
  }
 },
 "nbformat": 4,
 "nbformat_minor": 5
}
